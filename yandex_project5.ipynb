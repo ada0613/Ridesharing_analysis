{
 "cells": [
  {
   "cell_type": "markdown",
   "metadata": {
    "tags": []
   },
   "source": [
    "# Ridesharing Analysis\n",
    "You're working as an analyst for Zuber, a new ride-sharing company that's launching in Chicago. Your task is to find patterns in the available information. You want to understand passenger preferences and the impact of external factors on rides.\n",
    "\n",
    "You'll study a database, analyze data from competitors, and test a hypothesis about the impact of weather on ride frequency."
   ]
  },
  {
   "cell_type": "markdown",
   "metadata": {
    "tags": []
   },
   "source": [
    "**Step 1**\n",
    "\n",
    "Parse the data on weather in Chicago in November 2017 from the website:\n",
    "[https://code.s3.yandex.net/data-analyst-eng/chicago_weather_2017.html)"
   ]
  },
  {
   "cell_type": "code",
   "execution_count": 2,
   "metadata": {},
   "outputs": [
    {
     "name": "stdout",
     "output_type": "stream",
     "text": [
      "           Date and time Temperature       Description\n",
      "0    2017-11-01 00:00:00     276.150     broken clouds\n",
      "1    2017-11-01 01:00:00     275.700  scattered clouds\n",
      "2    2017-11-01 02:00:00     275.610   overcast clouds\n",
      "3    2017-11-01 03:00:00     275.350     broken clouds\n",
      "4    2017-11-01 04:00:00     275.240     broken clouds\n",
      "..                   ...         ...               ...\n",
      "692  2017-11-29 20:00:00     281.340        few clouds\n",
      "693  2017-11-29 21:00:00     281.690      sky is clear\n",
      "694  2017-11-29 22:00:00     281.070        few clouds\n",
      "695  2017-11-29 23:00:00     280.060      sky is clear\n",
      "696  2017-11-30 00:00:00     278.460      sky is clear\n",
      "\n",
      "[697 rows x 3 columns]\n"
     ]
    }
   ],
   "source": [
    "import requests\n",
    "import pandas as pd\n",
    "from bs4 import BeautifulSoup\n",
    "\n",
    "URL = 'https://code.s3.yandex.net/data-analyst-eng/chicago_weather_2017.html'\n",
    "req = requests.get(URL) \n",
    "soup = BeautifulSoup(req.text, 'lxml')\n",
    "\n",
    "weather = soup.find('table', attrs={'id': 'weather_records'})\n",
    "#print(weather)\n",
    "heading_table = []\n",
    "for row in weather.find_all('th'): \n",
    "    # column names are inside <th>\n",
    "    heading_table.append(row.text)\n",
    "content = [] # list where the table data will be stored\n",
    "for row in weather.find_all('tr'): \n",
    "    # Each row is wrapped in a <tr> tag, we need to loop through all the rows\n",
    "    if not row.find_all('th'): \n",
    "    # We need this condition to ignore the first row of the table, with headings    \n",
    "        content.append([element.text for element in row.find_all('td')])\n",
    "weather_records = pd.DataFrame(content, columns=heading_table)\n",
    "print(weather_records)"
   ]
  },
  {
   "cell_type": "markdown",
   "metadata": {},
   "source": [
    "**Step 2-3**\n",
    "\n",
    "Study a database, analyze data from competitors: A database with info on taxi rides in Chicago - SQL"
   ]
  },
  {
   "cell_type": "markdown",
   "metadata": {},
   "source": [
    "Print the company_name field. Find the number of taxi rides for each taxi company for November 15-16, 2017, name the resulting field trips_amount, and print it, too. Sort the results by the trips_amount field in descending order."
   ]
  },
  {
   "cell_type": "code",
   "execution_count": null,
   "metadata": {},
   "outputs": [],
   "source": [
    "SELECT\n",
    "    cabs.company_name, COUNT(trips.trip_id) AS trips_amount\n",
    "FROM\n",
    "    cabs\n",
    "    JOIN trips ON  cabs.cab_id = trips.cab_id\n",
    "WHERE \n",
    "    trips.start_ts::date BETWEEN '2017-11-15' AND '2017-11-16'\n",
    "GROUP BY\n",
    "   cabs.company_name\n",
    "ORDER BY\n",
    "    trips_amount DESC"
   ]
  },
  {
   "cell_type": "markdown",
   "metadata": {},
   "source": [
    "Find the number of rides for every taxi company whose name contains the words \"Yellow\" or \"Blue\" for November 1-7, 2017. Name the resulting variable trips_amount. Group the results by the company_name field."
   ]
  },
  {
   "cell_type": "code",
   "execution_count": null,
   "metadata": {},
   "outputs": [],
   "source": [
    "SELECT\n",
    "    cabs.company_name, COUNT(trips.trip_id) AS trips_amount\n",
    "FROM\n",
    "    cabs\n",
    "    JOIN trips ON cabs.cab_id = trips.cab_id\n",
    "WHERE \n",
    "    cabs.company_name LIKE '%Yellow%'\n",
    "    AND trips.start_ts::date BETWEEN '2017-11-01' AND '2017-11-07'\n",
    "GROUP BY\n",
    "   cabs.company_name\n",
    "UNION \n",
    "SELECT\n",
    "    cabs.company_name, COUNT(trips.trip_id) AS trips_amount\n",
    "FROM\n",
    "    cabs\n",
    "    JOIN trips ON cabs.cab_id = trips.cab_id\n",
    "WHERE \n",
    "    cabs.company_name LIKE '%Blue%'\n",
    "    AND trips.start_ts::date BETWEEN '2017-11-01' AND '2017-11-07'\n",
    "GROUP BY\n",
    "   cabs.company_name"
   ]
  },
  {
   "cell_type": "markdown",
   "metadata": {},
   "source": [
    "For November 1-7, 2017, the most popular taxi companies were Flash Cab and Taxi Affiliation Services. Find the number of rides for these two companies and name the resulting variable trips_amount. Join the rides for all other companies in the group \"Other.\" Group the data by taxi company names. Name the field with taxi company names company. Sort the result in descending order by trips_amount."
   ]
  },
  {
   "cell_type": "code",
   "execution_count": null,
   "metadata": {},
   "outputs": [],
   "source": [
    "SELECT\n",
    "    CASE\n",
    "        WHEN cabs.company_name = 'Flash Cab' THEN 'Flash Cab'\n",
    "        WHEN cabs.company_name = 'Taxi Affiliation Services' THEN 'Taxi Affiliation Services'\n",
    "        ELSE 'Other'\n",
    "    END AS company,\n",
    "    COUNT(trips.trip_id) AS trips_amount\n",
    "FROM\n",
    "    cabs\n",
    "    JOIN trips ON cabs.cab_id = trips.cab_id\n",
    "WHERE \n",
    "    trips.start_ts::date BETWEEN '2017-11-01' AND '2017-11-07'\n",
    "GROUP BY\n",
    "   company\n",
    "ORDER BY trips_amount DESC"
   ]
  },
  {
   "cell_type": "markdown",
   "metadata": {},
   "source": [
    "Retrieve the identifiers of the O'Hare and Loop neighborhoods from the neighborhoods table."
   ]
  },
  {
   "cell_type": "code",
   "execution_count": null,
   "metadata": {},
   "outputs": [],
   "source": [
    "SELECT name, neighborhood_id \n",
    "FROM neighborhoods\n",
    "WHERE name LIKE '%Hare' OR name LIKE 'Loop'"
   ]
  },
  {
   "cell_type": "markdown",
   "metadata": {},
   "source": [
    "For each hour, retrieve the weather condition records from the weather_records table. Using the CASE operator, break all hours into two groups: Bad if the description field contains the words rain or storm, and Good for others. Name the resulting field weather_conditions. The final table must include two fields: date and hour (ts) and weather_conditions."
   ]
  },
  {
   "cell_type": "code",
   "execution_count": null,
   "metadata": {},
   "outputs": [],
   "source": [
    "SELECT ts,\n",
    "    CASE WHEN description LIKE '%rain%' OR description LIKE '%storm%' THEN 'Bad'\n",
    "    ELSE 'Good'\n",
    "    END AS weather_conditions\n",
    "FROM weather_records"
   ]
  },
  {
   "cell_type": "markdown",
   "metadata": {},
   "source": [
    "Retrieve from the trips table all the rides that started in the Loop (pickup_location_id: 50) on a Saturday and ended at O'Hare (dropoff_location_id: 63). Get the weather conditions for each ride. Use the method you applied in the previous task. Also, retrieve the duration of each ride. Ignore rides for which data on weather conditions is not available."
   ]
  },
  {
   "cell_type": "code",
   "execution_count": null,
   "metadata": {},
   "outputs": [],
   "source": [
    "SELECT trips.start_ts,\n",
    "    CASE WHEN weather_records.description LIKE '%rain%' OR weather_records.description LIKE '%storm%' THEN 'Bad'\n",
    "    ELSE 'Good'\n",
    "    END AS weather_conditions,\n",
    "    trips.duration_seconds\n",
    "FROM trips\n",
    "    JOIN weather_records ON trips.start_ts = weather_records.ts\n",
    "WHERE EXTRACT(DOW from trips.start_ts) = 6\n",
    "    AND trips.pickup_location_id = 50 \n",
    "    AND trips.dropoff_location_id = 63\n",
    "ORDER BY trips.trip_id"
   ]
  },
  {
   "cell_type": "markdown",
   "metadata": {},
   "source": [
    "**Step 4-5**"
   ]
  },
  {
   "cell_type": "code",
   "execution_count": 1,
   "metadata": {},
   "outputs": [],
   "source": [
    "# import pandas\n",
    "import pandas as pd\n",
    "# import numpy\n",
    "import numpy as np\n",
    "# import matplot\n",
    "import matplotlib.pyplot as plt\n",
    "from datetime import datetime\n",
    "import re\n",
    "# hypothesis testing\n",
    "from scipy import stats as st\n",
    "import random\n",
    "import seaborn as sns"
   ]
  },
  {
   "cell_type": "markdown",
   "metadata": {},
   "source": [
    "## Open the data file and study the general information"
   ]
  },
  {
   "cell_type": "code",
   "execution_count": 2,
   "metadata": {
    "scrolled": true
   },
   "outputs": [
    {
     "name": "stdout",
     "output_type": "stream",
     "text": [
      "Read the data successfully. \n"
     ]
    }
   ],
   "source": [
    "try: \n",
    "    company = pd.read_csv('/datasets/project_sql_result_01.csv')\n",
    "    dropoff = pd.read_csv('/datasets/project_sql_result_04.csv')\n",
    "    Ohare = pd.read_csv('/datasets/project_sql_result_07.csv')\n",
    "except:\n",
    "    print('Somethong went wrong.')\n",
    "else:\n",
    "    print(\"Read the data successfully. \")"
   ]
  },
  {
   "cell_type": "markdown",
   "metadata": {},
   "source": [
    "### General Information"
   ]
  },
  {
   "cell_type": "markdown",
   "metadata": {},
   "source": [
    "**company**"
   ]
  },
  {
   "cell_type": "code",
   "execution_count": 3,
   "metadata": {},
   "outputs": [
    {
     "data": {
      "text/html": [
       "<div>\n",
       "<style scoped>\n",
       "    .dataframe tbody tr th:only-of-type {\n",
       "        vertical-align: middle;\n",
       "    }\n",
       "\n",
       "    .dataframe tbody tr th {\n",
       "        vertical-align: top;\n",
       "    }\n",
       "\n",
       "    .dataframe thead th {\n",
       "        text-align: right;\n",
       "    }\n",
       "</style>\n",
       "<table border=\"1\" class=\"dataframe\">\n",
       "  <thead>\n",
       "    <tr style=\"text-align: right;\">\n",
       "      <th></th>\n",
       "      <th>company_name</th>\n",
       "      <th>trips_amount</th>\n",
       "    </tr>\n",
       "  </thead>\n",
       "  <tbody>\n",
       "    <tr>\n",
       "      <td>0</td>\n",
       "      <td>Flash Cab</td>\n",
       "      <td>19558</td>\n",
       "    </tr>\n",
       "    <tr>\n",
       "      <td>1</td>\n",
       "      <td>Taxi Affiliation Services</td>\n",
       "      <td>11422</td>\n",
       "    </tr>\n",
       "    <tr>\n",
       "      <td>2</td>\n",
       "      <td>Medallion Leasing</td>\n",
       "      <td>10367</td>\n",
       "    </tr>\n",
       "    <tr>\n",
       "      <td>3</td>\n",
       "      <td>Yellow Cab</td>\n",
       "      <td>9888</td>\n",
       "    </tr>\n",
       "    <tr>\n",
       "      <td>4</td>\n",
       "      <td>Taxi Affiliation Service Yellow</td>\n",
       "      <td>9299</td>\n",
       "    </tr>\n",
       "  </tbody>\n",
       "</table>\n",
       "</div>"
      ],
      "text/plain": [
       "                      company_name  trips_amount\n",
       "0                        Flash Cab         19558\n",
       "1        Taxi Affiliation Services         11422\n",
       "2                Medallion Leasing         10367\n",
       "3                       Yellow Cab          9888\n",
       "4  Taxi Affiliation Service Yellow          9299"
      ]
     },
     "execution_count": 3,
     "metadata": {},
     "output_type": "execute_result"
    }
   ],
   "source": [
    "# check the first 5 rows of company dataframe\n",
    "company.head()"
   ]
  },
  {
   "cell_type": "code",
   "execution_count": 4,
   "metadata": {},
   "outputs": [
    {
     "data": {
      "text/html": [
       "<div>\n",
       "<style scoped>\n",
       "    .dataframe tbody tr th:only-of-type {\n",
       "        vertical-align: middle;\n",
       "    }\n",
       "\n",
       "    .dataframe tbody tr th {\n",
       "        vertical-align: top;\n",
       "    }\n",
       "\n",
       "    .dataframe thead th {\n",
       "        text-align: right;\n",
       "    }\n",
       "</style>\n",
       "<table border=\"1\" class=\"dataframe\">\n",
       "  <thead>\n",
       "    <tr style=\"text-align: right;\">\n",
       "      <th></th>\n",
       "      <th>company_name</th>\n",
       "      <th>trips_amount</th>\n",
       "    </tr>\n",
       "  </thead>\n",
       "  <tbody>\n",
       "    <tr>\n",
       "      <td>59</td>\n",
       "      <td>4053 - 40193 Adwar H. Nikola</td>\n",
       "      <td>7</td>\n",
       "    </tr>\n",
       "    <tr>\n",
       "      <td>60</td>\n",
       "      <td>2733 - 74600 Benny Jona</td>\n",
       "      <td>7</td>\n",
       "    </tr>\n",
       "    <tr>\n",
       "      <td>61</td>\n",
       "      <td>5874 - 73628 Sergey Cab Corp.</td>\n",
       "      <td>5</td>\n",
       "    </tr>\n",
       "    <tr>\n",
       "      <td>62</td>\n",
       "      <td>2241 - 44667 - Felman Corp</td>\n",
       "      <td>3</td>\n",
       "    </tr>\n",
       "    <tr>\n",
       "      <td>63</td>\n",
       "      <td>3556 - 36214 RC Andrews Cab</td>\n",
       "      <td>2</td>\n",
       "    </tr>\n",
       "  </tbody>\n",
       "</table>\n",
       "</div>"
      ],
      "text/plain": [
       "                     company_name  trips_amount\n",
       "59   4053 - 40193 Adwar H. Nikola             7\n",
       "60        2733 - 74600 Benny Jona             7\n",
       "61  5874 - 73628 Sergey Cab Corp.             5\n",
       "62     2241 - 44667 - Felman Corp             3\n",
       "63    3556 - 36214 RC Andrews Cab             2"
      ]
     },
     "execution_count": 4,
     "metadata": {},
     "output_type": "execute_result"
    }
   ],
   "source": [
    "# check the last 5 rows of company dataframe\n",
    "company.tail()"
   ]
  },
  {
   "cell_type": "code",
   "execution_count": 5,
   "metadata": {
    "scrolled": true
   },
   "outputs": [
    {
     "name": "stdout",
     "output_type": "stream",
     "text": [
      "<class 'pandas.core.frame.DataFrame'>\n",
      "RangeIndex: 64 entries, 0 to 63\n",
      "Data columns (total 2 columns):\n",
      "company_name    64 non-null object\n",
      "trips_amount    64 non-null int64\n",
      "dtypes: int64(1), object(1)\n",
      "memory usage: 1.1+ KB\n"
     ]
    }
   ],
   "source": [
    "# the information of company dataframe\n",
    "company.info()"
   ]
  },
  {
   "cell_type": "code",
   "execution_count": 6,
   "metadata": {},
   "outputs": [
    {
     "data": {
      "text/html": [
       "<div>\n",
       "<style scoped>\n",
       "    .dataframe tbody tr th:only-of-type {\n",
       "        vertical-align: middle;\n",
       "    }\n",
       "\n",
       "    .dataframe tbody tr th {\n",
       "        vertical-align: top;\n",
       "    }\n",
       "\n",
       "    .dataframe thead th {\n",
       "        text-align: right;\n",
       "    }\n",
       "</style>\n",
       "<table border=\"1\" class=\"dataframe\">\n",
       "  <thead>\n",
       "    <tr style=\"text-align: right;\">\n",
       "      <th></th>\n",
       "      <th>trips_amount</th>\n",
       "    </tr>\n",
       "  </thead>\n",
       "  <tbody>\n",
       "    <tr>\n",
       "      <td>count</td>\n",
       "      <td>64.000000</td>\n",
       "    </tr>\n",
       "    <tr>\n",
       "      <td>mean</td>\n",
       "      <td>2145.484375</td>\n",
       "    </tr>\n",
       "    <tr>\n",
       "      <td>std</td>\n",
       "      <td>3812.310186</td>\n",
       "    </tr>\n",
       "    <tr>\n",
       "      <td>min</td>\n",
       "      <td>2.000000</td>\n",
       "    </tr>\n",
       "    <tr>\n",
       "      <td>25%</td>\n",
       "      <td>20.750000</td>\n",
       "    </tr>\n",
       "    <tr>\n",
       "      <td>50%</td>\n",
       "      <td>178.500000</td>\n",
       "    </tr>\n",
       "    <tr>\n",
       "      <td>75%</td>\n",
       "      <td>2106.500000</td>\n",
       "    </tr>\n",
       "    <tr>\n",
       "      <td>max</td>\n",
       "      <td>19558.000000</td>\n",
       "    </tr>\n",
       "  </tbody>\n",
       "</table>\n",
       "</div>"
      ],
      "text/plain": [
       "       trips_amount\n",
       "count     64.000000\n",
       "mean    2145.484375\n",
       "std     3812.310186\n",
       "min        2.000000\n",
       "25%       20.750000\n",
       "50%      178.500000\n",
       "75%     2106.500000\n",
       "max    19558.000000"
      ]
     },
     "execution_count": 6,
     "metadata": {},
     "output_type": "execute_result"
    }
   ],
   "source": [
    "# check the statistics of company dataframe\n",
    "company.describe()"
   ]
  },
  {
   "cell_type": "markdown",
   "metadata": {},
   "source": [
    "The maximum trip amount is 19558, the minimum is 2, average amount is 2145."
   ]
  },
  {
   "cell_type": "code",
   "execution_count": 7,
   "metadata": {
    "scrolled": true
   },
   "outputs": [
    {
     "data": {
      "text/html": [
       "<div>\n",
       "<style scoped>\n",
       "    .dataframe tbody tr th:only-of-type {\n",
       "        vertical-align: middle;\n",
       "    }\n",
       "\n",
       "    .dataframe tbody tr th {\n",
       "        vertical-align: top;\n",
       "    }\n",
       "\n",
       "    .dataframe thead th {\n",
       "        text-align: right;\n",
       "    }\n",
       "</style>\n",
       "<table border=\"1\" class=\"dataframe\">\n",
       "  <thead>\n",
       "    <tr style=\"text-align: right;\">\n",
       "      <th></th>\n",
       "      <th>company_name</th>\n",
       "    </tr>\n",
       "  </thead>\n",
       "  <tbody>\n",
       "    <tr>\n",
       "      <td>count</td>\n",
       "      <td>64</td>\n",
       "    </tr>\n",
       "    <tr>\n",
       "      <td>unique</td>\n",
       "      <td>64</td>\n",
       "    </tr>\n",
       "    <tr>\n",
       "      <td>top</td>\n",
       "      <td>Chicago Medallion Management</td>\n",
       "    </tr>\n",
       "    <tr>\n",
       "      <td>freq</td>\n",
       "      <td>1</td>\n",
       "    </tr>\n",
       "  </tbody>\n",
       "</table>\n",
       "</div>"
      ],
      "text/plain": [
       "                        company_name\n",
       "count                             64\n",
       "unique                            64\n",
       "top     Chicago Medallion Management\n",
       "freq                               1"
      ]
     },
     "execution_count": 7,
     "metadata": {},
     "output_type": "execute_result"
    }
   ],
   "source": [
    "company.describe(include='object')"
   ]
  },
  {
   "cell_type": "markdown",
   "metadata": {},
   "source": [
    "There are 64 companies."
   ]
  },
  {
   "cell_type": "code",
   "execution_count": 8,
   "metadata": {},
   "outputs": [
    {
     "data": {
      "text/plain": [
       "(64, 2)"
      ]
     },
     "execution_count": 8,
     "metadata": {},
     "output_type": "execute_result"
    }
   ],
   "source": [
    "# check the number of rows and columns of company \n",
    "company.shape"
   ]
  },
  {
   "cell_type": "markdown",
   "metadata": {},
   "source": [
    "Compnay dataset has 64 rows and 2 columns. "
   ]
  },
  {
   "cell_type": "code",
   "execution_count": 9,
   "metadata": {},
   "outputs": [
    {
     "data": {
      "text/plain": [
       "company_name    0\n",
       "trips_amount    0\n",
       "dtype: int64"
      ]
     },
     "execution_count": 9,
     "metadata": {},
     "output_type": "execute_result"
    }
   ],
   "source": [
    "# check if there exist missing values in company\n",
    "company.isnull().sum()"
   ]
  },
  {
   "cell_type": "markdown",
   "metadata": {},
   "source": [
    "The are no missing values. "
   ]
  },
  {
   "cell_type": "code",
   "execution_count": 10,
   "metadata": {},
   "outputs": [
    {
     "data": {
      "text/plain": [
       "0"
      ]
     },
     "execution_count": 10,
     "metadata": {},
     "output_type": "execute_result"
    }
   ],
   "source": [
    "# check if there exist duplicate values in company\n",
    "company.duplicated().sum()"
   ]
  },
  {
   "cell_type": "markdown",
   "metadata": {},
   "source": [
    "There are no duplicated values. "
   ]
  },
  {
   "cell_type": "markdown",
   "metadata": {},
   "source": [
    "**Dropoff**"
   ]
  },
  {
   "cell_type": "code",
   "execution_count": 11,
   "metadata": {},
   "outputs": [
    {
     "data": {
      "text/html": [
       "<div>\n",
       "<style scoped>\n",
       "    .dataframe tbody tr th:only-of-type {\n",
       "        vertical-align: middle;\n",
       "    }\n",
       "\n",
       "    .dataframe tbody tr th {\n",
       "        vertical-align: top;\n",
       "    }\n",
       "\n",
       "    .dataframe thead th {\n",
       "        text-align: right;\n",
       "    }\n",
       "</style>\n",
       "<table border=\"1\" class=\"dataframe\">\n",
       "  <thead>\n",
       "    <tr style=\"text-align: right;\">\n",
       "      <th></th>\n",
       "      <th>dropoff_location_name</th>\n",
       "      <th>average_trips</th>\n",
       "    </tr>\n",
       "  </thead>\n",
       "  <tbody>\n",
       "    <tr>\n",
       "      <td>0</td>\n",
       "      <td>Loop</td>\n",
       "      <td>10727.466667</td>\n",
       "    </tr>\n",
       "    <tr>\n",
       "      <td>1</td>\n",
       "      <td>River North</td>\n",
       "      <td>9523.666667</td>\n",
       "    </tr>\n",
       "    <tr>\n",
       "      <td>2</td>\n",
       "      <td>Streeterville</td>\n",
       "      <td>6664.666667</td>\n",
       "    </tr>\n",
       "    <tr>\n",
       "      <td>3</td>\n",
       "      <td>West Loop</td>\n",
       "      <td>5163.666667</td>\n",
       "    </tr>\n",
       "    <tr>\n",
       "      <td>4</td>\n",
       "      <td>O'Hare</td>\n",
       "      <td>2546.900000</td>\n",
       "    </tr>\n",
       "  </tbody>\n",
       "</table>\n",
       "</div>"
      ],
      "text/plain": [
       "  dropoff_location_name  average_trips\n",
       "0                  Loop   10727.466667\n",
       "1           River North    9523.666667\n",
       "2         Streeterville    6664.666667\n",
       "3             West Loop    5163.666667\n",
       "4                O'Hare    2546.900000"
      ]
     },
     "execution_count": 11,
     "metadata": {},
     "output_type": "execute_result"
    }
   ],
   "source": [
    "# check the first 5 rows of dropoff dataframe\n",
    "dropoff.head()"
   ]
  },
  {
   "cell_type": "code",
   "execution_count": 12,
   "metadata": {},
   "outputs": [
    {
     "data": {
      "text/html": [
       "<div>\n",
       "<style scoped>\n",
       "    .dataframe tbody tr th:only-of-type {\n",
       "        vertical-align: middle;\n",
       "    }\n",
       "\n",
       "    .dataframe tbody tr th {\n",
       "        vertical-align: top;\n",
       "    }\n",
       "\n",
       "    .dataframe thead th {\n",
       "        text-align: right;\n",
       "    }\n",
       "</style>\n",
       "<table border=\"1\" class=\"dataframe\">\n",
       "  <thead>\n",
       "    <tr style=\"text-align: right;\">\n",
       "      <th></th>\n",
       "      <th>dropoff_location_name</th>\n",
       "      <th>average_trips</th>\n",
       "    </tr>\n",
       "  </thead>\n",
       "  <tbody>\n",
       "    <tr>\n",
       "      <td>89</td>\n",
       "      <td>Mount Greenwood</td>\n",
       "      <td>3.137931</td>\n",
       "    </tr>\n",
       "    <tr>\n",
       "      <td>90</td>\n",
       "      <td>Hegewisch</td>\n",
       "      <td>3.117647</td>\n",
       "    </tr>\n",
       "    <tr>\n",
       "      <td>91</td>\n",
       "      <td>Burnside</td>\n",
       "      <td>2.333333</td>\n",
       "    </tr>\n",
       "    <tr>\n",
       "      <td>92</td>\n",
       "      <td>East Side</td>\n",
       "      <td>1.961538</td>\n",
       "    </tr>\n",
       "    <tr>\n",
       "      <td>93</td>\n",
       "      <td>Riverdale</td>\n",
       "      <td>1.800000</td>\n",
       "    </tr>\n",
       "  </tbody>\n",
       "</table>\n",
       "</div>"
      ],
      "text/plain": [
       "   dropoff_location_name  average_trips\n",
       "89       Mount Greenwood       3.137931\n",
       "90             Hegewisch       3.117647\n",
       "91              Burnside       2.333333\n",
       "92             East Side       1.961538\n",
       "93             Riverdale       1.800000"
      ]
     },
     "execution_count": 12,
     "metadata": {},
     "output_type": "execute_result"
    }
   ],
   "source": [
    "# check the last 5 rows of dropoff dataframe\n",
    "dropoff.tail()"
   ]
  },
  {
   "cell_type": "code",
   "execution_count": 13,
   "metadata": {},
   "outputs": [
    {
     "name": "stdout",
     "output_type": "stream",
     "text": [
      "<class 'pandas.core.frame.DataFrame'>\n",
      "RangeIndex: 94 entries, 0 to 93\n",
      "Data columns (total 2 columns):\n",
      "dropoff_location_name    94 non-null object\n",
      "average_trips            94 non-null float64\n",
      "dtypes: float64(1), object(1)\n",
      "memory usage: 1.6+ KB\n"
     ]
    }
   ],
   "source": [
    "# the information of dropoff dataframe\n",
    "dropoff.info()"
   ]
  },
  {
   "cell_type": "code",
   "execution_count": 14,
   "metadata": {},
   "outputs": [
    {
     "data": {
      "text/html": [
       "<div>\n",
       "<style scoped>\n",
       "    .dataframe tbody tr th:only-of-type {\n",
       "        vertical-align: middle;\n",
       "    }\n",
       "\n",
       "    .dataframe tbody tr th {\n",
       "        vertical-align: top;\n",
       "    }\n",
       "\n",
       "    .dataframe thead th {\n",
       "        text-align: right;\n",
       "    }\n",
       "</style>\n",
       "<table border=\"1\" class=\"dataframe\">\n",
       "  <thead>\n",
       "    <tr style=\"text-align: right;\">\n",
       "      <th></th>\n",
       "      <th>average_trips</th>\n",
       "    </tr>\n",
       "  </thead>\n",
       "  <tbody>\n",
       "    <tr>\n",
       "      <td>count</td>\n",
       "      <td>94.000000</td>\n",
       "    </tr>\n",
       "    <tr>\n",
       "      <td>mean</td>\n",
       "      <td>599.953728</td>\n",
       "    </tr>\n",
       "    <tr>\n",
       "      <td>std</td>\n",
       "      <td>1714.591098</td>\n",
       "    </tr>\n",
       "    <tr>\n",
       "      <td>min</td>\n",
       "      <td>1.800000</td>\n",
       "    </tr>\n",
       "    <tr>\n",
       "      <td>25%</td>\n",
       "      <td>14.266667</td>\n",
       "    </tr>\n",
       "    <tr>\n",
       "      <td>50%</td>\n",
       "      <td>52.016667</td>\n",
       "    </tr>\n",
       "    <tr>\n",
       "      <td>75%</td>\n",
       "      <td>298.858333</td>\n",
       "    </tr>\n",
       "    <tr>\n",
       "      <td>max</td>\n",
       "      <td>10727.466667</td>\n",
       "    </tr>\n",
       "  </tbody>\n",
       "</table>\n",
       "</div>"
      ],
      "text/plain": [
       "       average_trips\n",
       "count      94.000000\n",
       "mean      599.953728\n",
       "std      1714.591098\n",
       "min         1.800000\n",
       "25%        14.266667\n",
       "50%        52.016667\n",
       "75%       298.858333\n",
       "max     10727.466667"
      ]
     },
     "execution_count": 14,
     "metadata": {},
     "output_type": "execute_result"
    }
   ],
   "source": [
    "# check the statistics of dropoff dataframe\n",
    "dropoff.describe()"
   ]
  },
  {
   "cell_type": "markdown",
   "metadata": {},
   "source": [
    "The maximum number of average trip is 10727, the minimum is 1.8, the average trips is 599. "
   ]
  },
  {
   "cell_type": "code",
   "execution_count": 15,
   "metadata": {},
   "outputs": [
    {
     "data": {
      "text/html": [
       "<div>\n",
       "<style scoped>\n",
       "    .dataframe tbody tr th:only-of-type {\n",
       "        vertical-align: middle;\n",
       "    }\n",
       "\n",
       "    .dataframe tbody tr th {\n",
       "        vertical-align: top;\n",
       "    }\n",
       "\n",
       "    .dataframe thead th {\n",
       "        text-align: right;\n",
       "    }\n",
       "</style>\n",
       "<table border=\"1\" class=\"dataframe\">\n",
       "  <thead>\n",
       "    <tr style=\"text-align: right;\">\n",
       "      <th></th>\n",
       "      <th>dropoff_location_name</th>\n",
       "    </tr>\n",
       "  </thead>\n",
       "  <tbody>\n",
       "    <tr>\n",
       "      <td>count</td>\n",
       "      <td>94</td>\n",
       "    </tr>\n",
       "    <tr>\n",
       "      <td>unique</td>\n",
       "      <td>94</td>\n",
       "    </tr>\n",
       "    <tr>\n",
       "      <td>top</td>\n",
       "      <td>Chatham</td>\n",
       "    </tr>\n",
       "    <tr>\n",
       "      <td>freq</td>\n",
       "      <td>1</td>\n",
       "    </tr>\n",
       "  </tbody>\n",
       "</table>\n",
       "</div>"
      ],
      "text/plain": [
       "       dropoff_location_name\n",
       "count                     94\n",
       "unique                    94\n",
       "top                  Chatham\n",
       "freq                       1"
      ]
     },
     "execution_count": 15,
     "metadata": {},
     "output_type": "execute_result"
    }
   ],
   "source": [
    "dropoff.describe(include = 'object')"
   ]
  },
  {
   "cell_type": "markdown",
   "metadata": {},
   "source": [
    "There are 94 dropoff locations."
   ]
  },
  {
   "cell_type": "code",
   "execution_count": 16,
   "metadata": {},
   "outputs": [
    {
     "data": {
      "text/plain": [
       "(94, 2)"
      ]
     },
     "execution_count": 16,
     "metadata": {},
     "output_type": "execute_result"
    }
   ],
   "source": [
    "# check the number of rows and columns of dropoff \n",
    "dropoff.shape"
   ]
  },
  {
   "cell_type": "markdown",
   "metadata": {},
   "source": [
    "There are 94 rows and 2 columns."
   ]
  },
  {
   "cell_type": "code",
   "execution_count": 17,
   "metadata": {},
   "outputs": [
    {
     "data": {
      "text/plain": [
       "dropoff_location_name    0\n",
       "average_trips            0\n",
       "dtype: int64"
      ]
     },
     "execution_count": 17,
     "metadata": {},
     "output_type": "execute_result"
    }
   ],
   "source": [
    "# check if there exist missing values in dropoff\n",
    "dropoff.isnull().sum()"
   ]
  },
  {
   "cell_type": "markdown",
   "metadata": {},
   "source": [
    "There are no missing values."
   ]
  },
  {
   "cell_type": "code",
   "execution_count": 18,
   "metadata": {},
   "outputs": [
    {
     "data": {
      "text/plain": [
       "0"
      ]
     },
     "execution_count": 18,
     "metadata": {},
     "output_type": "execute_result"
    }
   ],
   "source": [
    "# check if there exist duplicate values in dropoff\n",
    "dropoff.duplicated().sum()"
   ]
  },
  {
   "cell_type": "markdown",
   "metadata": {},
   "source": [
    "There are no duplicated values."
   ]
  },
  {
   "cell_type": "markdown",
   "metadata": {},
   "source": [
    "**Ohare**"
   ]
  },
  {
   "cell_type": "code",
   "execution_count": 19,
   "metadata": {},
   "outputs": [
    {
     "data": {
      "text/html": [
       "<div>\n",
       "<style scoped>\n",
       "    .dataframe tbody tr th:only-of-type {\n",
       "        vertical-align: middle;\n",
       "    }\n",
       "\n",
       "    .dataframe tbody tr th {\n",
       "        vertical-align: top;\n",
       "    }\n",
       "\n",
       "    .dataframe thead th {\n",
       "        text-align: right;\n",
       "    }\n",
       "</style>\n",
       "<table border=\"1\" class=\"dataframe\">\n",
       "  <thead>\n",
       "    <tr style=\"text-align: right;\">\n",
       "      <th></th>\n",
       "      <th>start_ts</th>\n",
       "      <th>weather_conditions</th>\n",
       "      <th>duration_seconds</th>\n",
       "    </tr>\n",
       "  </thead>\n",
       "  <tbody>\n",
       "    <tr>\n",
       "      <td>0</td>\n",
       "      <td>2017-11-25 16:00:00</td>\n",
       "      <td>Good</td>\n",
       "      <td>2410.0</td>\n",
       "    </tr>\n",
       "    <tr>\n",
       "      <td>1</td>\n",
       "      <td>2017-11-25 14:00:00</td>\n",
       "      <td>Good</td>\n",
       "      <td>1920.0</td>\n",
       "    </tr>\n",
       "    <tr>\n",
       "      <td>2</td>\n",
       "      <td>2017-11-25 12:00:00</td>\n",
       "      <td>Good</td>\n",
       "      <td>1543.0</td>\n",
       "    </tr>\n",
       "    <tr>\n",
       "      <td>3</td>\n",
       "      <td>2017-11-04 10:00:00</td>\n",
       "      <td>Good</td>\n",
       "      <td>2512.0</td>\n",
       "    </tr>\n",
       "    <tr>\n",
       "      <td>4</td>\n",
       "      <td>2017-11-11 07:00:00</td>\n",
       "      <td>Good</td>\n",
       "      <td>1440.0</td>\n",
       "    </tr>\n",
       "  </tbody>\n",
       "</table>\n",
       "</div>"
      ],
      "text/plain": [
       "              start_ts weather_conditions  duration_seconds\n",
       "0  2017-11-25 16:00:00               Good            2410.0\n",
       "1  2017-11-25 14:00:00               Good            1920.0\n",
       "2  2017-11-25 12:00:00               Good            1543.0\n",
       "3  2017-11-04 10:00:00               Good            2512.0\n",
       "4  2017-11-11 07:00:00               Good            1440.0"
      ]
     },
     "execution_count": 19,
     "metadata": {},
     "output_type": "execute_result"
    }
   ],
   "source": [
    "# check the first 5 rows of Ohare\n",
    "Ohare.head()"
   ]
  },
  {
   "cell_type": "code",
   "execution_count": 20,
   "metadata": {},
   "outputs": [
    {
     "data": {
      "text/html": [
       "<div>\n",
       "<style scoped>\n",
       "    .dataframe tbody tr th:only-of-type {\n",
       "        vertical-align: middle;\n",
       "    }\n",
       "\n",
       "    .dataframe tbody tr th {\n",
       "        vertical-align: top;\n",
       "    }\n",
       "\n",
       "    .dataframe thead th {\n",
       "        text-align: right;\n",
       "    }\n",
       "</style>\n",
       "<table border=\"1\" class=\"dataframe\">\n",
       "  <thead>\n",
       "    <tr style=\"text-align: right;\">\n",
       "      <th></th>\n",
       "      <th>start_ts</th>\n",
       "      <th>weather_conditions</th>\n",
       "      <th>duration_seconds</th>\n",
       "    </tr>\n",
       "  </thead>\n",
       "  <tbody>\n",
       "    <tr>\n",
       "      <td>1063</td>\n",
       "      <td>2017-11-25 11:00:00</td>\n",
       "      <td>Good</td>\n",
       "      <td>0.0</td>\n",
       "    </tr>\n",
       "    <tr>\n",
       "      <td>1064</td>\n",
       "      <td>2017-11-11 10:00:00</td>\n",
       "      <td>Good</td>\n",
       "      <td>1318.0</td>\n",
       "    </tr>\n",
       "    <tr>\n",
       "      <td>1065</td>\n",
       "      <td>2017-11-11 13:00:00</td>\n",
       "      <td>Good</td>\n",
       "      <td>2100.0</td>\n",
       "    </tr>\n",
       "    <tr>\n",
       "      <td>1066</td>\n",
       "      <td>2017-11-11 08:00:00</td>\n",
       "      <td>Good</td>\n",
       "      <td>1380.0</td>\n",
       "    </tr>\n",
       "    <tr>\n",
       "      <td>1067</td>\n",
       "      <td>2017-11-04 16:00:00</td>\n",
       "      <td>Bad</td>\n",
       "      <td>2834.0</td>\n",
       "    </tr>\n",
       "  </tbody>\n",
       "</table>\n",
       "</div>"
      ],
      "text/plain": [
       "                 start_ts weather_conditions  duration_seconds\n",
       "1063  2017-11-25 11:00:00               Good               0.0\n",
       "1064  2017-11-11 10:00:00               Good            1318.0\n",
       "1065  2017-11-11 13:00:00               Good            2100.0\n",
       "1066  2017-11-11 08:00:00               Good            1380.0\n",
       "1067  2017-11-04 16:00:00                Bad            2834.0"
      ]
     },
     "execution_count": 20,
     "metadata": {},
     "output_type": "execute_result"
    }
   ],
   "source": [
    "# check the lst 5 rows of Ohare\n",
    "Ohare.tail()"
   ]
  },
  {
   "cell_type": "code",
   "execution_count": 21,
   "metadata": {
    "scrolled": true
   },
   "outputs": [
    {
     "name": "stdout",
     "output_type": "stream",
     "text": [
      "<class 'pandas.core.frame.DataFrame'>\n",
      "RangeIndex: 1068 entries, 0 to 1067\n",
      "Data columns (total 3 columns):\n",
      "start_ts              1068 non-null object\n",
      "weather_conditions    1068 non-null object\n",
      "duration_seconds      1068 non-null float64\n",
      "dtypes: float64(1), object(2)\n",
      "memory usage: 25.2+ KB\n"
     ]
    }
   ],
   "source": [
    "# the information of Ohare dataframe\n",
    "Ohare.info()"
   ]
  },
  {
   "cell_type": "markdown",
   "metadata": {},
   "source": [
    "`start_ts` is in object datatype, we are going to covert it to datetime format."
   ]
  },
  {
   "cell_type": "code",
   "execution_count": 22,
   "metadata": {
    "scrolled": true
   },
   "outputs": [
    {
     "data": {
      "text/html": [
       "<div>\n",
       "<style scoped>\n",
       "    .dataframe tbody tr th:only-of-type {\n",
       "        vertical-align: middle;\n",
       "    }\n",
       "\n",
       "    .dataframe tbody tr th {\n",
       "        vertical-align: top;\n",
       "    }\n",
       "\n",
       "    .dataframe thead th {\n",
       "        text-align: right;\n",
       "    }\n",
       "</style>\n",
       "<table border=\"1\" class=\"dataframe\">\n",
       "  <thead>\n",
       "    <tr style=\"text-align: right;\">\n",
       "      <th></th>\n",
       "      <th>duration_seconds</th>\n",
       "    </tr>\n",
       "  </thead>\n",
       "  <tbody>\n",
       "    <tr>\n",
       "      <td>count</td>\n",
       "      <td>1068.000000</td>\n",
       "    </tr>\n",
       "    <tr>\n",
       "      <td>mean</td>\n",
       "      <td>2071.731273</td>\n",
       "    </tr>\n",
       "    <tr>\n",
       "      <td>std</td>\n",
       "      <td>769.461125</td>\n",
       "    </tr>\n",
       "    <tr>\n",
       "      <td>min</td>\n",
       "      <td>0.000000</td>\n",
       "    </tr>\n",
       "    <tr>\n",
       "      <td>25%</td>\n",
       "      <td>1438.250000</td>\n",
       "    </tr>\n",
       "    <tr>\n",
       "      <td>50%</td>\n",
       "      <td>1980.000000</td>\n",
       "    </tr>\n",
       "    <tr>\n",
       "      <td>75%</td>\n",
       "      <td>2580.000000</td>\n",
       "    </tr>\n",
       "    <tr>\n",
       "      <td>max</td>\n",
       "      <td>7440.000000</td>\n",
       "    </tr>\n",
       "  </tbody>\n",
       "</table>\n",
       "</div>"
      ],
      "text/plain": [
       "       duration_seconds\n",
       "count       1068.000000\n",
       "mean        2071.731273\n",
       "std          769.461125\n",
       "min            0.000000\n",
       "25%         1438.250000\n",
       "50%         1980.000000\n",
       "75%         2580.000000\n",
       "max         7440.000000"
      ]
     },
     "execution_count": 22,
     "metadata": {},
     "output_type": "execute_result"
    }
   ],
   "source": [
    "# check the statistics of Ohare dataframe\n",
    "Ohare.describe()"
   ]
  },
  {
   "cell_type": "markdown",
   "metadata": {},
   "source": [
    "The maximum duration seconds is 7440s, the minimum is 0s, the average duration is 2071s."
   ]
  },
  {
   "cell_type": "code",
   "execution_count": 23,
   "metadata": {
    "scrolled": true
   },
   "outputs": [
    {
     "data": {
      "text/html": [
       "<div>\n",
       "<style scoped>\n",
       "    .dataframe tbody tr th:only-of-type {\n",
       "        vertical-align: middle;\n",
       "    }\n",
       "\n",
       "    .dataframe tbody tr th {\n",
       "        vertical-align: top;\n",
       "    }\n",
       "\n",
       "    .dataframe thead th {\n",
       "        text-align: right;\n",
       "    }\n",
       "</style>\n",
       "<table border=\"1\" class=\"dataframe\">\n",
       "  <thead>\n",
       "    <tr style=\"text-align: right;\">\n",
       "      <th></th>\n",
       "      <th>start_ts</th>\n",
       "      <th>weather_conditions</th>\n",
       "    </tr>\n",
       "  </thead>\n",
       "  <tbody>\n",
       "    <tr>\n",
       "      <td>count</td>\n",
       "      <td>1068</td>\n",
       "      <td>1068</td>\n",
       "    </tr>\n",
       "    <tr>\n",
       "      <td>unique</td>\n",
       "      <td>81</td>\n",
       "      <td>2</td>\n",
       "    </tr>\n",
       "    <tr>\n",
       "      <td>top</td>\n",
       "      <td>2017-11-11 10:00:00</td>\n",
       "      <td>Good</td>\n",
       "    </tr>\n",
       "    <tr>\n",
       "      <td>freq</td>\n",
       "      <td>48</td>\n",
       "      <td>888</td>\n",
       "    </tr>\n",
       "  </tbody>\n",
       "</table>\n",
       "</div>"
      ],
      "text/plain": [
       "                   start_ts weather_conditions\n",
       "count                  1068               1068\n",
       "unique                   81                  2\n",
       "top     2017-11-11 10:00:00               Good\n",
       "freq                     48                888"
      ]
     },
     "execution_count": 23,
     "metadata": {},
     "output_type": "execute_result"
    }
   ],
   "source": [
    "Ohare.describe(include = 'object')"
   ]
  },
  {
   "cell_type": "markdown",
   "metadata": {},
   "source": [
    "There are 81 start date and time, and 2 weather conditions."
   ]
  },
  {
   "cell_type": "code",
   "execution_count": 24,
   "metadata": {},
   "outputs": [
    {
     "data": {
      "text/plain": [
       "(1068, 3)"
      ]
     },
     "execution_count": 24,
     "metadata": {},
     "output_type": "execute_result"
    }
   ],
   "source": [
    "# check the number of rows and columns of Ohare \n",
    "Ohare.shape"
   ]
  },
  {
   "cell_type": "markdown",
   "metadata": {},
   "source": [
    "There are 1068 rows and 3 columns."
   ]
  },
  {
   "cell_type": "code",
   "execution_count": 25,
   "metadata": {},
   "outputs": [
    {
     "data": {
      "text/plain": [
       "start_ts              0\n",
       "weather_conditions    0\n",
       "duration_seconds      0\n",
       "dtype: int64"
      ]
     },
     "execution_count": 25,
     "metadata": {},
     "output_type": "execute_result"
    }
   ],
   "source": [
    "# check if there exist missing values in Ohare\n",
    "Ohare.isnull().sum()"
   ]
  },
  {
   "cell_type": "markdown",
   "metadata": {},
   "source": [
    "There are no missing values."
   ]
  },
  {
   "cell_type": "code",
   "execution_count": 26,
   "metadata": {},
   "outputs": [
    {
     "data": {
      "text/plain": [
       "start_ts              0\n",
       "weather_conditions    0\n",
       "duration_seconds      0\n",
       "dtype: int64"
      ]
     },
     "execution_count": 26,
     "metadata": {},
     "output_type": "execute_result"
    }
   ],
   "source": [
    "# check if there exist missing values in dropoff\n",
    "Ohare.isnull().sum()"
   ]
  },
  {
   "cell_type": "markdown",
   "metadata": {},
   "source": [
    "There are no duplicated values."
   ]
  },
  {
   "cell_type": "markdown",
   "metadata": {},
   "source": [
    "**Company**"
   ]
  },
  {
   "cell_type": "code",
   "execution_count": 27,
   "metadata": {},
   "outputs": [
    {
     "data": {
      "image/png": "[encoded data removed]",
      "text/plain": [
       "<Figure size 720x360 with 1 Axes>"
      ]
     },
     "metadata": {
      "needs_background": "light"
     },
     "output_type": "display_data"
    }
   ],
   "source": [
    "# plot a histogram of company. \n",
    "company['trips_amount'].hist(alpha = 0.6, figsize = (10, 5))\n",
    "# add title and axis names\n",
    "plt.xlabel('Trip Amount')\n",
    "plt.ylabel('Company Amount')\n",
    "plt.title(\"Histogram of number of trip amount\");"
   ]
  },
  {
   "cell_type": "markdown",
   "metadata": {},
   "source": [
    "There are some outliers that makes the histogram skew to the right."
   ]
  },
  {
   "cell_type": "code",
   "execution_count": 28,
   "metadata": {
    "scrolled": true
   },
   "outputs": [
    {
     "data": {
      "text/html": [
       "<div>\n",
       "<style scoped>\n",
       "    .dataframe tbody tr th:only-of-type {\n",
       "        vertical-align: middle;\n",
       "    }\n",
       "\n",
       "    .dataframe tbody tr th {\n",
       "        vertical-align: top;\n",
       "    }\n",
       "\n",
       "    .dataframe thead th {\n",
       "        text-align: right;\n",
       "    }\n",
       "</style>\n",
       "<table border=\"1\" class=\"dataframe\">\n",
       "  <thead>\n",
       "    <tr style=\"text-align: right;\">\n",
       "      <th></th>\n",
       "      <th>company_name</th>\n",
       "      <th>trips_amount</th>\n",
       "    </tr>\n",
       "  </thead>\n",
       "  <tbody>\n",
       "    <tr>\n",
       "      <td>0</td>\n",
       "      <td>Flash Cab</td>\n",
       "      <td>19558</td>\n",
       "    </tr>\n",
       "    <tr>\n",
       "      <td>1</td>\n",
       "      <td>Taxi Affiliation Services</td>\n",
       "      <td>11422</td>\n",
       "    </tr>\n",
       "    <tr>\n",
       "      <td>2</td>\n",
       "      <td>Medallion Leasing</td>\n",
       "      <td>10367</td>\n",
       "    </tr>\n",
       "    <tr>\n",
       "      <td>3</td>\n",
       "      <td>Yellow Cab</td>\n",
       "      <td>9888</td>\n",
       "    </tr>\n",
       "    <tr>\n",
       "      <td>4</td>\n",
       "      <td>Taxi Affiliation Service Yellow</td>\n",
       "      <td>9299</td>\n",
       "    </tr>\n",
       "    <tr>\n",
       "      <td>5</td>\n",
       "      <td>Chicago Carriage Cab Corp</td>\n",
       "      <td>9181</td>\n",
       "    </tr>\n",
       "    <tr>\n",
       "      <td>6</td>\n",
       "      <td>City Service</td>\n",
       "      <td>8448</td>\n",
       "    </tr>\n",
       "    <tr>\n",
       "      <td>7</td>\n",
       "      <td>Sun Taxi</td>\n",
       "      <td>7701</td>\n",
       "    </tr>\n",
       "    <tr>\n",
       "      <td>8</td>\n",
       "      <td>Star North Management LLC</td>\n",
       "      <td>7455</td>\n",
       "    </tr>\n",
       "    <tr>\n",
       "      <td>9</td>\n",
       "      <td>Blue Ribbon Taxi Association Inc.</td>\n",
       "      <td>5953</td>\n",
       "    </tr>\n",
       "    <tr>\n",
       "      <td>10</td>\n",
       "      <td>Choice Taxi Association</td>\n",
       "      <td>5015</td>\n",
       "    </tr>\n",
       "    <tr>\n",
       "      <td>11</td>\n",
       "      <td>Globe Taxi</td>\n",
       "      <td>4383</td>\n",
       "    </tr>\n",
       "    <tr>\n",
       "      <td>12</td>\n",
       "      <td>Dispatch Taxi Affiliation</td>\n",
       "      <td>3355</td>\n",
       "    </tr>\n",
       "    <tr>\n",
       "      <td>13</td>\n",
       "      <td>Nova Taxi Affiliation Llc</td>\n",
       "      <td>3175</td>\n",
       "    </tr>\n",
       "    <tr>\n",
       "      <td>14</td>\n",
       "      <td>Patriot Taxi Dba Peace Taxi Association</td>\n",
       "      <td>2235</td>\n",
       "    </tr>\n",
       "  </tbody>\n",
       "</table>\n",
       "</div>"
      ],
      "text/plain": [
       "                               company_name  trips_amount\n",
       "0                                 Flash Cab         19558\n",
       "1                 Taxi Affiliation Services         11422\n",
       "2                         Medallion Leasing         10367\n",
       "3                                Yellow Cab          9888\n",
       "4           Taxi Affiliation Service Yellow          9299\n",
       "5                 Chicago Carriage Cab Corp          9181\n",
       "6                              City Service          8448\n",
       "7                                  Sun Taxi          7701\n",
       "8                 Star North Management LLC          7455\n",
       "9         Blue Ribbon Taxi Association Inc.          5953\n",
       "10                  Choice Taxi Association          5015\n",
       "11                               Globe Taxi          4383\n",
       "12                Dispatch Taxi Affiliation          3355\n",
       "13                Nova Taxi Affiliation Llc          3175\n",
       "14  Patriot Taxi Dba Peace Taxi Association          2235"
      ]
     },
     "execution_count": 28,
     "metadata": {},
     "output_type": "execute_result"
    }
   ],
   "source": [
    "top15_company = company.sort_values('trips_amount', ascending = False).head(15)\n",
    "top15_company"
   ]
  },
  {
   "cell_type": "code",
   "execution_count": 29,
   "metadata": {},
   "outputs": [
    {
     "data": {
      "image/png": "[encoded data removed]",
      "text/plain": [
       "<Figure size 720x360 with 1 Axes>"
      ]
     },
     "metadata": {
      "needs_background": "light"
     },
     "output_type": "display_data"
    }
   ],
   "source": [
    "# plot for taxi companies with top 15 number of rides\n",
    "top15_company.plot.bar(x = 'company_name', y = 'trips_amount', alpha = 0.6, figsize = (10,5), legend = False)\n",
    "# add title and axis names\n",
    "plt.xlabel('Taxi Company')\n",
    "plt.ylabel('Trip Amount')\n",
    "plt.title(\"Taxi Companies and Trips Amount\");"
   ]
  },
  {
   "cell_type": "markdown",
   "metadata": {},
   "source": [
    "I chose the top 15 taxi companies and plot a bar plot in terms of their trip amount, we concluded that `Flash Cab` is the most popular taxi company, followed by `Taxi Affilication Services` and `Medallion Leasing`.  "
   ]
  },
  {
   "cell_type": "markdown",
   "metadata": {},
   "source": [
    "**Dropoff**"
   ]
  },
  {
   "cell_type": "code",
   "execution_count": 30,
   "metadata": {},
   "outputs": [
    {
     "data": {
      "image/png": "[encoded data removed]",
      "text/plain": [
       "<Figure size 720x360 with 1 Axes>"
      ]
     },
     "metadata": {
      "needs_background": "light"
     },
     "output_type": "display_data"
    }
   ],
   "source": [
    "# plot a histogram of dropoff. \n",
    "dropoff['average_trips'].hist(alpha = 0.6, figsize = (10, 5))\n",
    "# add title and axis names\n",
    "plt.xlabel('Trip Amount')\n",
    "plt.ylabel('Droppff Location Amount')\n",
    "plt.title(\"Histogram of number of average trips\");"
   ]
  },
  {
   "cell_type": "markdown",
   "metadata": {},
   "source": [
    "There are some outliers that makes the histogram skew to the right."
   ]
  },
  {
   "cell_type": "code",
   "execution_count": 31,
   "metadata": {},
   "outputs": [
    {
     "data": {
      "text/html": [
       "<div>\n",
       "<style scoped>\n",
       "    .dataframe tbody tr th:only-of-type {\n",
       "        vertical-align: middle;\n",
       "    }\n",
       "\n",
       "    .dataframe tbody tr th {\n",
       "        vertical-align: top;\n",
       "    }\n",
       "\n",
       "    .dataframe thead th {\n",
       "        text-align: right;\n",
       "    }\n",
       "</style>\n",
       "<table border=\"1\" class=\"dataframe\">\n",
       "  <thead>\n",
       "    <tr style=\"text-align: right;\">\n",
       "      <th></th>\n",
       "      <th>dropoff_location_name</th>\n",
       "      <th>average_trips</th>\n",
       "    </tr>\n",
       "  </thead>\n",
       "  <tbody>\n",
       "    <tr>\n",
       "      <td>0</td>\n",
       "      <td>Loop</td>\n",
       "      <td>10727.466667</td>\n",
       "    </tr>\n",
       "    <tr>\n",
       "      <td>1</td>\n",
       "      <td>River North</td>\n",
       "      <td>9523.666667</td>\n",
       "    </tr>\n",
       "    <tr>\n",
       "      <td>2</td>\n",
       "      <td>Streeterville</td>\n",
       "      <td>6664.666667</td>\n",
       "    </tr>\n",
       "    <tr>\n",
       "      <td>3</td>\n",
       "      <td>West Loop</td>\n",
       "      <td>5163.666667</td>\n",
       "    </tr>\n",
       "    <tr>\n",
       "      <td>4</td>\n",
       "      <td>O'Hare</td>\n",
       "      <td>2546.900000</td>\n",
       "    </tr>\n",
       "    <tr>\n",
       "      <td>5</td>\n",
       "      <td>Lake View</td>\n",
       "      <td>2420.966667</td>\n",
       "    </tr>\n",
       "    <tr>\n",
       "      <td>6</td>\n",
       "      <td>Grant Park</td>\n",
       "      <td>2068.533333</td>\n",
       "    </tr>\n",
       "    <tr>\n",
       "      <td>7</td>\n",
       "      <td>Museum Campus</td>\n",
       "      <td>1510.000000</td>\n",
       "    </tr>\n",
       "    <tr>\n",
       "      <td>8</td>\n",
       "      <td>Gold Coast</td>\n",
       "      <td>1364.233333</td>\n",
       "    </tr>\n",
       "    <tr>\n",
       "      <td>9</td>\n",
       "      <td>Sheffield &amp; DePaul</td>\n",
       "      <td>1259.766667</td>\n",
       "    </tr>\n",
       "  </tbody>\n",
       "</table>\n",
       "</div>"
      ],
      "text/plain": [
       "  dropoff_location_name  average_trips\n",
       "0                  Loop   10727.466667\n",
       "1           River North    9523.666667\n",
       "2         Streeterville    6664.666667\n",
       "3             West Loop    5163.666667\n",
       "4                O'Hare    2546.900000\n",
       "5             Lake View    2420.966667\n",
       "6            Grant Park    2068.533333\n",
       "7         Museum Campus    1510.000000\n",
       "8            Gold Coast    1364.233333\n",
       "9    Sheffield & DePaul    1259.766667"
      ]
     },
     "execution_count": 31,
     "metadata": {},
     "output_type": "execute_result"
    }
   ],
   "source": [
    "top10_dropoff = dropoff.sort_values('average_trips', ascending = False).head(10)\n",
    "top10_dropoff"
   ]
  },
  {
   "cell_type": "code",
   "execution_count": 32,
   "metadata": {
    "scrolled": true
   },
   "outputs": [
    {
     "data": {
      "image/png": "[encoded data removed]",
      "text/plain": [
       "<Figure size 720x360 with 1 Axes>"
      ]
     },
     "metadata": {
      "needs_background": "light"
     },
     "output_type": "display_data"
    }
   ],
   "source": [
    "# plot for taxi dropoff locations with top 10 number of rides\n",
    "top10_dropoff.plot.bar(x = 'dropoff_location_name', y = 'average_trips', alpha = 0.6, figsize = (10,5), legend = False)\n",
    "# add title and axis names\n",
    "plt.xlabel('Drop Off Location')\n",
    "plt.ylabel('Average Trip Amount')\n",
    "plt.title(\"Dropoff Locations and Average Trip Amount\");"
   ]
  },
  {
   "cell_type": "markdown",
   "metadata": {},
   "source": [
    "Based on the above barplot, we concluded that `Loop` is the most popular dropoff location, followed by `River North` and `Streeterville`. "
   ]
  },
  {
   "cell_type": "markdown",
   "metadata": {},
   "source": [
    "**Ohare**"
   ]
  },
  {
   "cell_type": "code",
   "execution_count": 33,
   "metadata": {},
   "outputs": [
    {
     "data": {
      "image/png": "[encoded data removed]",
      "text/plain": [
       "<Figure size 720x360 with 1 Axes>"
      ]
     },
     "metadata": {
      "needs_background": "light"
     },
     "output_type": "display_data"
    }
   ],
   "source": [
    "# plot a histogram of Ohare. \n",
    "Ohare['duration_seconds'].hist(alpha = 0.6, figsize = (10, 5))\n",
    "# add title and axis names\n",
    "plt.xlabel(\"Trip Duration(s)\")\n",
    "plt.ylabel('Trips Amount')\n",
    "plt.title(\"Histogram of number of trip duration\");"
   ]
  },
  {
   "cell_type": "markdown",
   "metadata": {},
   "source": [
    "Most of the trips are between 1000 seconds to 3600 seconds."
   ]
  },
  {
   "cell_type": "markdown",
   "metadata": {},
   "source": [
    "## Conclusion\n",
    "\n",
    "We identified \n",
    "* the most popular taxi company is `Flash Cab`, and it has siginificant large number of rides comparing to other companies.\n",
    "* the top 10 most popular dropoff location is `Loop`, followed by `River North` and `Streeterville`. "
   ]
  },
  {
   "cell_type": "markdown",
   "metadata": {},
   "source": [
    "## Hypothesis Testing"
   ]
  },
  {
   "cell_type": "markdown",
   "metadata": {},
   "source": [
    "Covert datatype of `start_ts`  to datetime"
   ]
  },
  {
   "cell_type": "code",
   "execution_count": 36,
   "metadata": {
    "scrolled": true
   },
   "outputs": [],
   "source": [
    "Ohare['start_ts'] = pd.to_datetime(Ohare['start_ts'], format='%Y-%m-%d %H:%M:%S', errors='raise')"
   ]
  },
  {
   "cell_type": "markdown",
   "metadata": {},
   "source": [
    "**Test: The average duration of rides from the Loop to O'Hare International Airport changes on rainy Saturdays**"
   ]
  },
  {
   "cell_type": "code",
   "execution_count": 37,
   "metadata": {},
   "outputs": [
    {
     "name": "stdout",
     "output_type": "stream",
     "text": [
      "The average duration of rides when the weather is sunny is 1999.68\n",
      "The average duration of rides when the weather is rainy is 2427.21\n"
     ]
    }
   ],
   "source": [
    "good = Ohare[Ohare.weather_conditions.isin(['Good'])]\n",
    "bad = Ohare[Ohare.weather_conditions.isin(['Bad'])]\n",
    "print('The average duration of rides when the weather is sunny is', round(good['duration_seconds'].mean(), 2))\n",
    "print('The average duration of rides when the weather is rainy is', round(bad['duration_seconds'].mean(), 2))"
   ]
  },
  {
   "cell_type": "markdown",
   "metadata": {},
   "source": [
    "We know the average duration of rides for sunny days and rainy days are different. We want to test whether the difference is significant. The null hypothesis is there is no averate duration of rides difference between sunny and rainy days, the alternative hypothesis is the average duration of ridesg of sunny and rainy days differs. We use significant level 0.05.\n",
    "\n",
    "* $H_0$: the average duration of rides during rainy days equals to 1999.68.\n",
    "* $H_1$: the average duration of rides during rainy days doesn't equal to 1999.68. \n",
    "* $\\alpha$ = 0.05\n",
    "* If the p-value < $\\alpha$, we reject the null hypothesis, otherwise, we fail to reject the null hypothesis."
   ]
  },
  {
   "cell_type": "code",
   "execution_count": null,
   "metadata": {},
   "outputs": [],
   "source": [
    "sunny = good['duration_seconds']\n",
    "rainy = bad['duration_seconds']\n",
    "\n",
    "alpha = 0.05\n",
    "\n",
    "results = st.ttest_ind(sunny, rainy, equal_var = True)\n",
    "print('p-value: ', results.pvalue)\n",
    "\n",
    "if results.pvalue < alpha:\n",
    "    print('We reject the null hypothesis.')\n",
    "else:\n",
    "    print('We fail to reject the null hypothesis')"
   ]
  },
  {
   "cell_type": "markdown",
   "metadata": {},
   "source": [
    "**Conclusion** \n",
    "\n",
    "Based on our testing, we reject the null hypothesis. That is, the average duration of rides of sunny and rainy days differs, and duration of rides on bad weather days is longer than good weather days."
   ]
  },
  {
   "cell_type": "markdown",
   "metadata": {},
   "source": [
    "## Overall Conclusion"
   ]
  },
  {
   "cell_type": "markdown",
   "metadata": {},
   "source": [
    "In Step 1 - 3, we found that\n",
    "* between November 15-16, 2017, `Yellow Cab` has the most number of rides, followed by `Taxi Affiliation Service Yellow` and `Blue Diamond`. \n",
    "* between Novenmber 1 - 7, 2017, taxi color is `Yellow` seems successful, followed by `Blue`. Zuber could consider using cars with yellow color.\n",
    "\n",
    "In Step 4 - 5, we found that \n",
    "* the most popular taxi company is `Flash Cab`, and it has siginificant large number of rides comparing to other companies.\n",
    "* the top 10 most popular dropoff location is `Loop`, followed by `River North` and `Streeterville`. Zuber could consider operate more ride services in Loop and its surrounding areas.\n",
    "* the average duration of rides of sunny and rainy days differs, and duration of rides on bad weather days is longer than good weather days. Zuber could consier changing the price during rainy and stormy days. "
   ]
  }
 ],
 "metadata": {
  "ExecuteTimeLog": [
   {
    "duration": 1486,
    "start_time": "2021-08-23T19:24:58.437Z"
   },
   {
    "duration": 46,
    "start_time": "2021-08-23T19:27:33.737Z"
   },
   {
    "duration": 13,
    "start_time": "2021-08-23T19:28:48.907Z"
   },
   {
    "duration": 11,
    "start_time": "2021-08-23T19:29:00.671Z"
   },
   {
    "duration": 7,
    "start_time": "2021-08-23T19:29:38.509Z"
   },
   {
    "duration": 17,
    "start_time": "2021-08-23T19:30:00.283Z"
   },
   {
    "duration": 21,
    "start_time": "2021-08-23T19:30:28.481Z"
   },
   {
    "duration": 1366,
    "start_time": "2021-08-23T19:50:03.756Z"
   },
   {
    "duration": 45,
    "start_time": "2021-08-23T19:50:05.125Z"
   },
   {
    "duration": 12,
    "start_time": "2021-08-23T19:50:05.173Z"
   },
   {
    "duration": 12,
    "start_time": "2021-08-23T19:50:05.188Z"
   },
   {
    "duration": 9,
    "start_time": "2021-08-23T19:50:05.202Z"
   },
   {
    "duration": 18,
    "start_time": "2021-08-23T19:50:05.214Z"
   },
   {
    "duration": 51,
    "start_time": "2021-08-23T19:50:05.234Z"
   },
   {
    "duration": 8,
    "start_time": "2021-08-23T19:50:05.288Z"
   },
   {
    "duration": 7,
    "start_time": "2021-08-23T19:51:05.091Z"
   },
   {
    "duration": 9,
    "start_time": "2021-08-23T19:51:33.403Z"
   },
   {
    "duration": 9,
    "start_time": "2021-08-23T19:52:17.901Z"
   },
   {
    "duration": 9,
    "start_time": "2021-08-23T19:52:33.630Z"
   },
   {
    "duration": 7,
    "start_time": "2021-08-23T19:52:51.431Z"
   },
   {
    "duration": 16,
    "start_time": "2021-08-23T19:53:38.930Z"
   },
   {
    "duration": 15,
    "start_time": "2021-08-23T19:54:58.577Z"
   },
   {
    "duration": 15,
    "start_time": "2021-08-23T19:55:22.057Z"
   },
   {
    "duration": 5,
    "start_time": "2021-08-23T19:56:00.216Z"
   },
   {
    "duration": 8,
    "start_time": "2021-08-23T19:56:29.344Z"
   },
   {
    "duration": 7,
    "start_time": "2021-08-23T19:56:59.706Z"
   },
   {
    "duration": 368,
    "start_time": "2021-08-23T20:06:32.827Z"
   },
   {
    "duration": 12,
    "start_time": "2021-08-23T20:06:41.106Z"
   },
   {
    "duration": 10,
    "start_time": "2021-08-23T20:06:49.365Z"
   },
   {
    "duration": 8,
    "start_time": "2021-08-23T20:07:14.822Z"
   },
   {
    "duration": 23,
    "start_time": "2021-08-23T20:07:31.688Z"
   },
   {
    "duration": 21,
    "start_time": "2021-08-23T20:07:51.390Z"
   },
   {
    "duration": 5,
    "start_time": "2021-08-23T20:09:07.946Z"
   },
   {
    "duration": 7,
    "start_time": "2021-08-23T20:10:46.457Z"
   },
   {
    "duration": 7,
    "start_time": "2021-08-23T20:11:20.472Z"
   },
   {
    "duration": 286,
    "start_time": "2021-08-23T20:25:33.341Z"
   },
   {
    "duration": 325,
    "start_time": "2021-08-23T20:25:43.494Z"
   },
   {
    "duration": 1929,
    "start_time": "2021-08-23T20:30:34.507Z"
   },
   {
    "duration": 271,
    "start_time": "2021-08-23T20:30:46.379Z"
   },
   {
    "duration": 1936,
    "start_time": "2021-08-23T20:31:57.485Z"
   },
   {
    "duration": 346,
    "start_time": "2021-08-23T20:32:15.029Z"
   },
   {
    "duration": 460,
    "start_time": "2021-08-23T20:32:45.350Z"
   },
   {
    "duration": 457,
    "start_time": "2021-08-23T20:32:56.602Z"
   },
   {
    "duration": 14,
    "start_time": "2021-08-23T20:34:31.001Z"
   },
   {
    "duration": 92,
    "start_time": "2021-08-23T20:35:05.508Z"
   },
   {
    "duration": 12,
    "start_time": "2021-08-23T20:35:10.745Z"
   },
   {
    "duration": 6,
    "start_time": "2021-08-23T20:35:40.128Z"
   },
   {
    "duration": 11,
    "start_time": "2021-08-23T20:35:44.753Z"
   },
   {
    "duration": 440,
    "start_time": "2021-08-23T20:35:56.151Z"
   },
   {
    "duration": 421,
    "start_time": "2021-08-23T20:37:21.422Z"
   },
   {
    "duration": 329,
    "start_time": "2021-08-23T20:40:45.511Z"
   },
   {
    "duration": 347,
    "start_time": "2021-08-23T20:40:52.399Z"
   },
   {
    "duration": 340,
    "start_time": "2021-08-23T20:41:13.695Z"
   },
   {
    "duration": 11,
    "start_time": "2021-08-23T20:42:02.637Z"
   },
   {
    "duration": 6570,
    "start_time": "2021-08-23T20:43:53.415Z"
   },
   {
    "duration": 328,
    "start_time": "2021-08-23T20:44:04.722Z"
   },
   {
    "duration": 15,
    "start_time": "2021-08-23T20:57:52.982Z"
   },
   {
    "duration": 1371,
    "start_time": "2021-08-23T21:06:34.356Z"
   },
   {
    "duration": 45,
    "start_time": "2021-08-23T21:06:35.730Z"
   },
   {
    "duration": 13,
    "start_time": "2021-08-23T21:06:35.779Z"
   },
   {
    "duration": 14,
    "start_time": "2021-08-23T21:06:35.794Z"
   },
   {
    "duration": 9,
    "start_time": "2021-08-23T21:06:35.810Z"
   },
   {
    "duration": 17,
    "start_time": "2021-08-23T21:06:35.821Z"
   },
   {
    "duration": 51,
    "start_time": "2021-08-23T21:06:35.840Z"
   },
   {
    "duration": 5,
    "start_time": "2021-08-23T21:06:35.895Z"
   },
   {
    "duration": 7,
    "start_time": "2021-08-23T21:06:35.904Z"
   },
   {
    "duration": 9,
    "start_time": "2021-08-23T21:06:35.913Z"
   },
   {
    "duration": 9,
    "start_time": "2021-08-23T21:06:35.924Z"
   },
   {
    "duration": 49,
    "start_time": "2021-08-23T21:06:35.935Z"
   },
   {
    "duration": 11,
    "start_time": "2021-08-23T21:06:35.987Z"
   },
   {
    "duration": 25,
    "start_time": "2021-08-23T21:06:36.001Z"
   },
   {
    "duration": 16,
    "start_time": "2021-08-23T21:06:36.029Z"
   },
   {
    "duration": 6,
    "start_time": "2021-08-23T21:06:36.083Z"
   },
   {
    "duration": 12,
    "start_time": "2021-08-23T21:06:36.091Z"
   },
   {
    "duration": 8,
    "start_time": "2021-08-23T21:06:36.106Z"
   },
   {
    "duration": 11,
    "start_time": "2021-08-23T21:06:36.117Z"
   },
   {
    "duration": 11,
    "start_time": "2021-08-23T21:06:36.130Z"
   },
   {
    "duration": 48,
    "start_time": "2021-08-23T21:06:36.143Z"
   },
   {
    "duration": 22,
    "start_time": "2021-08-23T21:06:36.194Z"
   },
   {
    "duration": 19,
    "start_time": "2021-08-23T21:06:36.220Z"
   },
   {
    "duration": 9,
    "start_time": "2021-08-23T21:06:36.242Z"
   },
   {
    "duration": 7,
    "start_time": "2021-08-23T21:06:36.283Z"
   },
   {
    "duration": 14,
    "start_time": "2021-08-23T21:06:36.293Z"
   },
   {
    "duration": 370,
    "start_time": "2021-08-23T21:06:36.309Z"
   },
   {
    "duration": 10,
    "start_time": "2021-08-23T21:06:36.682Z"
   },
   {
    "duration": 442,
    "start_time": "2021-08-23T21:06:36.695Z"
   },
   {
    "duration": 345,
    "start_time": "2021-08-23T21:06:37.140Z"
   },
   {
    "duration": 11,
    "start_time": "2021-08-23T21:06:37.488Z"
   },
   {
    "duration": 374,
    "start_time": "2021-08-23T21:06:37.503Z"
   },
   {
    "duration": 16,
    "start_time": "2021-08-23T21:06:37.883Z"
   },
   {
    "duration": 11,
    "start_time": "2021-08-23T21:06:37.902Z"
   },
   {
    "duration": 7,
    "start_time": "2021-08-23T21:07:06.910Z"
   },
   {
    "duration": 11,
    "start_time": "2021-08-23T21:07:19.986Z"
   },
   {
    "duration": 18,
    "start_time": "2021-08-23T21:07:26.045Z"
   },
   {
    "duration": 9,
    "start_time": "2021-08-23T21:07:39.782Z"
   },
   {
    "duration": 6,
    "start_time": "2021-08-23T21:14:35.964Z"
   },
   {
    "duration": 7,
    "start_time": "2021-08-23T21:14:46.519Z"
   },
   {
    "duration": 9,
    "start_time": "2021-08-23T21:17:50.751Z"
   },
   {
    "duration": 10,
    "start_time": "2021-08-23T21:18:48.105Z"
   },
   {
    "duration": 10,
    "start_time": "2021-08-23T21:19:28.926Z"
   },
   {
    "duration": 15,
    "start_time": "2021-08-23T21:22:53.612Z"
   },
   {
    "duration": 7,
    "start_time": "2021-08-23T21:23:41.442Z"
   },
   {
    "duration": 599,
    "start_time": "2021-08-23T21:24:27.388Z"
   },
   {
    "duration": 7,
    "start_time": "2021-08-23T21:24:48.023Z"
   },
   {
    "duration": 2549,
    "start_time": "2021-08-23T21:27:29.421Z"
   },
   {
    "duration": 509,
    "start_time": "2021-08-23T21:27:34.881Z"
   },
   {
    "duration": 106,
    "start_time": "2021-08-24T12:52:12.180Z"
   },
   {
    "duration": 1127,
    "start_time": "2021-08-24T19:25:19.013Z"
   },
   {
    "duration": 52,
    "start_time": "2021-08-24T19:25:20.142Z"
   },
   {
    "duration": 10,
    "start_time": "2021-08-24T19:25:20.196Z"
   },
   {
    "duration": 5,
    "start_time": "2021-08-24T19:25:20.208Z"
   },
   {
    "duration": 10,
    "start_time": "2021-08-24T19:25:20.214Z"
   },
   {
    "duration": 13,
    "start_time": "2021-08-24T19:25:20.225Z"
   },
   {
    "duration": 15,
    "start_time": "2021-08-24T19:25:20.240Z"
   },
   {
    "duration": 4,
    "start_time": "2021-08-24T19:25:20.257Z"
   },
   {
    "duration": 9,
    "start_time": "2021-08-24T19:25:20.263Z"
   },
   {
    "duration": 18,
    "start_time": "2021-08-24T19:25:20.274Z"
   },
   {
    "duration": 5,
    "start_time": "2021-08-24T19:25:20.293Z"
   },
   {
    "duration": 14,
    "start_time": "2021-08-24T19:25:20.300Z"
   },
   {
    "duration": 11,
    "start_time": "2021-08-24T19:25:20.315Z"
   },
   {
    "duration": 19,
    "start_time": "2021-08-24T19:25:20.327Z"
   },
   {
    "duration": 8,
    "start_time": "2021-08-24T19:25:20.347Z"
   },
   {
    "duration": 9,
    "start_time": "2021-08-24T19:25:20.357Z"
   },
   {
    "duration": 6,
    "start_time": "2021-08-24T19:25:20.368Z"
   },
   {
    "duration": 13,
    "start_time": "2021-08-24T19:25:20.376Z"
   },
   {
    "duration": 14,
    "start_time": "2021-08-24T19:25:20.391Z"
   },
   {
    "duration": 11,
    "start_time": "2021-08-24T19:25:20.407Z"
   },
   {
    "duration": 11,
    "start_time": "2021-08-24T19:25:20.420Z"
   },
   {
    "duration": 14,
    "start_time": "2021-08-24T19:25:20.432Z"
   },
   {
    "duration": 11,
    "start_time": "2021-08-24T19:25:20.448Z"
   },
   {
    "duration": 6,
    "start_time": "2021-08-24T19:25:20.461Z"
   },
   {
    "duration": 13,
    "start_time": "2021-08-24T19:25:20.468Z"
   },
   {
    "duration": 12,
    "start_time": "2021-08-24T19:25:20.482Z"
   },
   {
    "duration": 200,
    "start_time": "2021-08-24T19:25:20.495Z"
   },
   {
    "duration": 7,
    "start_time": "2021-08-24T19:25:20.696Z"
   },
   {
    "duration": 252,
    "start_time": "2021-08-24T19:25:20.705Z"
   },
   {
    "duration": 195,
    "start_time": "2021-08-24T19:25:20.958Z"
   },
   {
    "duration": 8,
    "start_time": "2021-08-24T19:25:21.154Z"
   },
   {
    "duration": 209,
    "start_time": "2021-08-24T19:25:21.164Z"
   },
   {
    "duration": 201,
    "start_time": "2021-08-24T19:25:21.375Z"
   },
   {
    "duration": 4377,
    "start_time": "2021-08-24T19:25:21.578Z"
   },
   {
    "duration": 752,
    "start_time": "2021-08-24T19:25:25.206Z"
   },
   {
    "duration": 749,
    "start_time": "2021-08-24T19:25:25.210Z"
   },
   {
    "duration": 1075,
    "start_time": "2021-08-24T19:25:45.046Z"
   },
   {
    "duration": 53,
    "start_time": "2021-08-24T19:25:46.122Z"
   },
   {
    "duration": 12,
    "start_time": "2021-08-24T19:25:46.177Z"
   },
   {
    "duration": 5,
    "start_time": "2021-08-24T19:25:46.191Z"
   },
   {
    "duration": 6,
    "start_time": "2021-08-24T19:25:46.198Z"
   },
   {
    "duration": 12,
    "start_time": "2021-08-24T19:25:46.205Z"
   },
   {
    "duration": 10,
    "start_time": "2021-08-24T19:25:46.219Z"
   },
   {
    "duration": 6,
    "start_time": "2021-08-24T19:25:46.231Z"
   },
   {
    "duration": 10,
    "start_time": "2021-08-24T19:25:46.238Z"
   },
   {
    "duration": 9,
    "start_time": "2021-08-24T19:25:46.249Z"
   },
   {
    "duration": 10,
    "start_time": "2021-08-24T19:25:46.260Z"
   },
   {
    "duration": 25,
    "start_time": "2021-08-24T19:25:46.271Z"
   },
   {
    "duration": 7,
    "start_time": "2021-08-24T19:25:46.297Z"
   },
   {
    "duration": 17,
    "start_time": "2021-08-24T19:25:46.305Z"
   },
   {
    "duration": 13,
    "start_time": "2021-08-24T19:25:46.324Z"
   },
   {
    "duration": 8,
    "start_time": "2021-08-24T19:25:46.339Z"
   },
   {
    "duration": 9,
    "start_time": "2021-08-24T19:25:46.348Z"
   },
   {
    "duration": 10,
    "start_time": "2021-08-24T19:25:46.358Z"
   },
   {
    "duration": 21,
    "start_time": "2021-08-24T19:25:46.370Z"
   },
   {
    "duration": 7,
    "start_time": "2021-08-24T19:25:46.392Z"
   },
   {
    "duration": 8,
    "start_time": "2021-08-24T19:25:46.401Z"
   },
   {
    "duration": 14,
    "start_time": "2021-08-24T19:25:46.410Z"
   },
   {
    "duration": 11,
    "start_time": "2021-08-24T19:25:46.428Z"
   },
   {
    "duration": 7,
    "start_time": "2021-08-24T19:25:46.441Z"
   },
   {
    "duration": 10,
    "start_time": "2021-08-24T19:25:46.450Z"
   },
   {
    "duration": 30,
    "start_time": "2021-08-24T19:25:46.461Z"
   },
   {
    "duration": 198,
    "start_time": "2021-08-24T19:25:46.493Z"
   },
   {
    "duration": 9,
    "start_time": "2021-08-24T19:25:46.693Z"
   },
   {
    "duration": 255,
    "start_time": "2021-08-24T19:25:46.704Z"
   },
   {
    "duration": 201,
    "start_time": "2021-08-24T19:25:46.961Z"
   },
   {
    "duration": 8,
    "start_time": "2021-08-24T19:25:47.164Z"
   },
   {
    "duration": 203,
    "start_time": "2021-08-24T19:25:47.173Z"
   },
   {
    "duration": 200,
    "start_time": "2021-08-24T19:25:47.378Z"
   },
   {
    "duration": 3653,
    "start_time": "2021-08-24T19:25:47.580Z"
   },
   {
    "duration": 796,
    "start_time": "2021-08-24T19:25:50.439Z"
   },
   {
    "duration": 792,
    "start_time": "2021-08-24T19:25:50.444Z"
   },
   {
    "duration": 3577,
    "start_time": "2021-08-24T19:27:17.043Z"
   },
   {
    "duration": 5,
    "start_time": "2021-08-24T19:27:33.191Z"
   },
   {
    "duration": 8,
    "start_time": "2021-08-24T19:27:37.922Z"
   }
  ],
  "kernelspec": {
   "display_name": "Python 3",
   "language": "python",
   "name": "python3"
  },
  "language_info": {
   "codemirror_mode": {
    "name": "ipython",
    "version": 3
   },
   "file_extension": ".py",
   "mimetype": "text/x-python",
   "name": "python",
   "nbconvert_exporter": "python",
   "pygments_lexer": "ipython3",
   "version": "3.8.3"
  },
  "toc": {
   "base_numbering": 1,
   "nav_menu": {},
   "number_sections": true,
   "sideBar": true,
   "skip_h1_title": true,
   "title_cell": "Table of Contents",
   "title_sidebar": "Contents",
   "toc_cell": false,
   "toc_position": {
    "height": "calc(100% - 180px)",
    "left": "10px",
    "top": "150px",
    "width": "270.391px"
   },
   "toc_section_display": true,
   "toc_window_display": false
  }
 },
 "nbformat": 4,
 "nbformat_minor": 4
}
